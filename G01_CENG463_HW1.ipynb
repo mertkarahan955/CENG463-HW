{
  "cells": [
    {
      "cell_type": "markdown",
      "metadata": {
        "id": "view-in-github",
        "colab_type": "text"
      },
      "source": [
        "<a href=\"https://colab.research.google.com/github/mertkarahan955/CENG463-HW/blob/hw1-ecenaz/G01_CENG463_HW1.ipynb\" target=\"_parent\"><img src=\"https://colab.research.google.com/assets/colab-badge.svg\" alt=\"Open In Colab\"/></a>"
      ]
    },
    {
      "cell_type": "markdown",
      "metadata": {
        "id": "6M3Q8Vlxcefo"
      },
      "source": [
        "# Task 1: Data Loading and Exploratory Data Analysis"
      ]
    },
    {
      "cell_type": "markdown",
      "metadata": {
        "id": "n3zE9wOkciM-"
      },
      "source": [
        "\n",
        "**1. Download and Load the Dataset**\n",
        "\n"
      ]
    },
    {
      "cell_type": "code",
      "execution_count": null,
      "metadata": {
        "id": "Edmcba3YVp8N"
      },
      "outputs": [],
      "source": [
        "import pandas as pd\n",
        "import numpy as np\n",
        "\n",
        "import matplotlib.pyplot as plt\n"
      ]
    },
    {
      "cell_type": "code",
      "execution_count": null,
      "metadata": {
        "id": "Hc-3t46SVtce"
      },
      "outputs": [],
      "source": [
        "#Task: Load the dataset\n",
        "#load the data by the link\n",
        "url = \"https://archive.ics.uci.edu/ml/machine-learning-databases/heart-disease/processed.cleveland.data\"\n",
        "data = pd.read_csv(url, header=None)  # there is no column name in the dataset, thus we use \"header=None\"\n",
        "#data.shape"
      ]
    },
    {
      "cell_type": "code",
      "execution_count": null,
      "metadata": {
        "id": "CENHM3kuVtyE"
      },
      "outputs": [],
      "source": [
        "#Data seperation problem checked\n",
        "data = pd.read_csv(url, header=None, sep=\",\")\n",
        "# define column names\n",
        "columns = [\"age\", \"sex\", \"cp\", \"trestbps\", \"chol\", \"fbs\", \"restecg\",\n",
        "           \"thalach\", \"exang\", \"oldpeak\", \"slope\", \"ca\", \"thal\", \"num\"]\n",
        "data.columns = columns\n"
      ]
    },
    {
      "cell_type": "code",
      "execution_count": null,
      "metadata": {
        "colab": {
          "base_uri": "https://localhost:8080/"
        },
        "id": "vmH6SqLTVy0w",
        "outputId": "68be3c0f-81a8-4726-bf0d-f3f5b5814666"
      },
      "outputs": [
        {
          "data": {
            "text/html": [
              "<div>\n",
              "<style scoped>\n",
              "    .dataframe tbody tr th:only-of-type {\n",
              "        vertical-align: middle;\n",
              "    }\n",
              "\n",
              "    .dataframe tbody tr th {\n",
              "        vertical-align: top;\n",
              "    }\n",
              "\n",
              "    .dataframe thead th {\n",
              "        text-align: right;\n",
              "    }\n",
              "</style>\n",
              "<table border=\"1\" class=\"dataframe\">\n",
              "  <thead>\n",
              "    <tr style=\"text-align: right;\">\n",
              "      <th></th>\n",
              "      <th>age</th>\n",
              "      <th>sex</th>\n",
              "      <th>cp</th>\n",
              "      <th>trestbps</th>\n",
              "      <th>chol</th>\n",
              "      <th>fbs</th>\n",
              "      <th>restecg</th>\n",
              "      <th>thalach</th>\n",
              "      <th>exang</th>\n",
              "      <th>oldpeak</th>\n",
              "      <th>slope</th>\n",
              "      <th>ca</th>\n",
              "      <th>thal</th>\n",
              "      <th>num</th>\n",
              "    </tr>\n",
              "  </thead>\n",
              "  <tbody>\n",
              "    <tr>\n",
              "      <th>0</th>\n",
              "      <td>63.0</td>\n",
              "      <td>1.0</td>\n",
              "      <td>1.0</td>\n",
              "      <td>145.0</td>\n",
              "      <td>233.0</td>\n",
              "      <td>1.0</td>\n",
              "      <td>2.0</td>\n",
              "      <td>150.0</td>\n",
              "      <td>0.0</td>\n",
              "      <td>2.3</td>\n",
              "      <td>3.0</td>\n",
              "      <td>0.0</td>\n",
              "      <td>6.0</td>\n",
              "      <td>0</td>\n",
              "    </tr>\n",
              "    <tr>\n",
              "      <th>1</th>\n",
              "      <td>67.0</td>\n",
              "      <td>1.0</td>\n",
              "      <td>4.0</td>\n",
              "      <td>160.0</td>\n",
              "      <td>286.0</td>\n",
              "      <td>0.0</td>\n",
              "      <td>2.0</td>\n",
              "      <td>108.0</td>\n",
              "      <td>1.0</td>\n",
              "      <td>1.5</td>\n",
              "      <td>2.0</td>\n",
              "      <td>3.0</td>\n",
              "      <td>3.0</td>\n",
              "      <td>2</td>\n",
              "    </tr>\n",
              "    <tr>\n",
              "      <th>2</th>\n",
              "      <td>67.0</td>\n",
              "      <td>1.0</td>\n",
              "      <td>4.0</td>\n",
              "      <td>120.0</td>\n",
              "      <td>229.0</td>\n",
              "      <td>0.0</td>\n",
              "      <td>2.0</td>\n",
              "      <td>129.0</td>\n",
              "      <td>1.0</td>\n",
              "      <td>2.6</td>\n",
              "      <td>2.0</td>\n",
              "      <td>2.0</td>\n",
              "      <td>7.0</td>\n",
              "      <td>1</td>\n",
              "    </tr>\n",
              "    <tr>\n",
              "      <th>3</th>\n",
              "      <td>37.0</td>\n",
              "      <td>1.0</td>\n",
              "      <td>3.0</td>\n",
              "      <td>130.0</td>\n",
              "      <td>250.0</td>\n",
              "      <td>0.0</td>\n",
              "      <td>0.0</td>\n",
              "      <td>187.0</td>\n",
              "      <td>0.0</td>\n",
              "      <td>3.5</td>\n",
              "      <td>3.0</td>\n",
              "      <td>0.0</td>\n",
              "      <td>3.0</td>\n",
              "      <td>0</td>\n",
              "    </tr>\n",
              "    <tr>\n",
              "      <th>4</th>\n",
              "      <td>41.0</td>\n",
              "      <td>0.0</td>\n",
              "      <td>2.0</td>\n",
              "      <td>130.0</td>\n",
              "      <td>204.0</td>\n",
              "      <td>0.0</td>\n",
              "      <td>2.0</td>\n",
              "      <td>172.0</td>\n",
              "      <td>0.0</td>\n",
              "      <td>1.4</td>\n",
              "      <td>1.0</td>\n",
              "      <td>0.0</td>\n",
              "      <td>3.0</td>\n",
              "      <td>0</td>\n",
              "    </tr>\n",
              "    <tr>\n",
              "      <th>5</th>\n",
              "      <td>56.0</td>\n",
              "      <td>1.0</td>\n",
              "      <td>2.0</td>\n",
              "      <td>120.0</td>\n",
              "      <td>236.0</td>\n",
              "      <td>0.0</td>\n",
              "      <td>0.0</td>\n",
              "      <td>178.0</td>\n",
              "      <td>0.0</td>\n",
              "      <td>0.8</td>\n",
              "      <td>1.0</td>\n",
              "      <td>0.0</td>\n",
              "      <td>3.0</td>\n",
              "      <td>0</td>\n",
              "    </tr>\n",
              "    <tr>\n",
              "      <th>6</th>\n",
              "      <td>62.0</td>\n",
              "      <td>0.0</td>\n",
              "      <td>4.0</td>\n",
              "      <td>140.0</td>\n",
              "      <td>268.0</td>\n",
              "      <td>0.0</td>\n",
              "      <td>2.0</td>\n",
              "      <td>160.0</td>\n",
              "      <td>0.0</td>\n",
              "      <td>3.6</td>\n",
              "      <td>3.0</td>\n",
              "      <td>2.0</td>\n",
              "      <td>3.0</td>\n",
              "      <td>3</td>\n",
              "    </tr>\n",
              "    <tr>\n",
              "      <th>7</th>\n",
              "      <td>57.0</td>\n",
              "      <td>0.0</td>\n",
              "      <td>4.0</td>\n",
              "      <td>120.0</td>\n",
              "      <td>354.0</td>\n",
              "      <td>0.0</td>\n",
              "      <td>0.0</td>\n",
              "      <td>163.0</td>\n",
              "      <td>1.0</td>\n",
              "      <td>0.6</td>\n",
              "      <td>1.0</td>\n",
              "      <td>0.0</td>\n",
              "      <td>3.0</td>\n",
              "      <td>0</td>\n",
              "    </tr>\n",
              "    <tr>\n",
              "      <th>8</th>\n",
              "      <td>63.0</td>\n",
              "      <td>1.0</td>\n",
              "      <td>4.0</td>\n",
              "      <td>130.0</td>\n",
              "      <td>254.0</td>\n",
              "      <td>0.0</td>\n",
              "      <td>2.0</td>\n",
              "      <td>147.0</td>\n",
              "      <td>0.0</td>\n",
              "      <td>1.4</td>\n",
              "      <td>2.0</td>\n",
              "      <td>1.0</td>\n",
              "      <td>7.0</td>\n",
              "      <td>2</td>\n",
              "    </tr>\n",
              "    <tr>\n",
              "      <th>9</th>\n",
              "      <td>53.0</td>\n",
              "      <td>1.0</td>\n",
              "      <td>4.0</td>\n",
              "      <td>140.0</td>\n",
              "      <td>203.0</td>\n",
              "      <td>1.0</td>\n",
              "      <td>2.0</td>\n",
              "      <td>155.0</td>\n",
              "      <td>1.0</td>\n",
              "      <td>3.1</td>\n",
              "      <td>3.0</td>\n",
              "      <td>0.0</td>\n",
              "      <td>7.0</td>\n",
              "      <td>1</td>\n",
              "    </tr>\n",
              "  </tbody>\n",
              "</table>\n",
              "</div>"
            ],
            "text/plain": [
              "    age  sex   cp  trestbps   chol  fbs  restecg  thalach  exang  oldpeak  \\\n",
              "0  63.0  1.0  1.0     145.0  233.0  1.0      2.0    150.0    0.0      2.3   \n",
              "1  67.0  1.0  4.0     160.0  286.0  0.0      2.0    108.0    1.0      1.5   \n",
              "2  67.0  1.0  4.0     120.0  229.0  0.0      2.0    129.0    1.0      2.6   \n",
              "3  37.0  1.0  3.0     130.0  250.0  0.0      0.0    187.0    0.0      3.5   \n",
              "4  41.0  0.0  2.0     130.0  204.0  0.0      2.0    172.0    0.0      1.4   \n",
              "5  56.0  1.0  2.0     120.0  236.0  0.0      0.0    178.0    0.0      0.8   \n",
              "6  62.0  0.0  4.0     140.0  268.0  0.0      2.0    160.0    0.0      3.6   \n",
              "7  57.0  0.0  4.0     120.0  354.0  0.0      0.0    163.0    1.0      0.6   \n",
              "8  63.0  1.0  4.0     130.0  254.0  0.0      2.0    147.0    0.0      1.4   \n",
              "9  53.0  1.0  4.0     140.0  203.0  1.0      2.0    155.0    1.0      3.1   \n",
              "\n",
              "   slope   ca thal  num  \n",
              "0    3.0  0.0  6.0    0  \n",
              "1    2.0  3.0  3.0    2  \n",
              "2    2.0  2.0  7.0    1  \n",
              "3    3.0  0.0  3.0    0  \n",
              "4    1.0  0.0  3.0    0  \n",
              "5    1.0  0.0  3.0    0  \n",
              "6    3.0  2.0  3.0    3  \n",
              "7    1.0  0.0  3.0    0  \n",
              "8    2.0  1.0  7.0    2  \n",
              "9    3.0  0.0  7.0    1  "
            ]
          },
          "execution_count": 4,
          "metadata": {},
          "output_type": "execute_result"
        }
      ],
      "source": [
        "#Task:display the first few rows using data.head()\n",
        "data.head(10)"
      ]
    },
    {
      "cell_type": "code",
      "execution_count": null,
      "metadata": {
        "id": "CrEOGT2rYO1P"
      },
      "outputs": [],
      "source": [
        "#replaces \"?\" with nan for finding null values in data\n",
        "data = data.replace([\"?\", \" \"], np.nan)"
      ]
    },
    {
      "cell_type": "code",
      "execution_count": null,
      "metadata": {
        "colab": {
          "base_uri": "https://localhost:8080/"
        },
        "id": "6qSuN-oqXEiQ",
        "outputId": "abb04e2b-fb88-4ebc-978d-8bfafda36750"
      },
      "outputs": [
        {
          "data": {
            "text/plain": [
              "age         0\n",
              "sex         0\n",
              "cp          0\n",
              "trestbps    0\n",
              "chol        0\n",
              "fbs         0\n",
              "restecg     0\n",
              "thalach     0\n",
              "exang       0\n",
              "oldpeak     0\n",
              "slope       0\n",
              "ca          4\n",
              "thal        2\n",
              "num         0\n",
              "dtype: int64"
            ]
          },
          "execution_count": 6,
          "metadata": {},
          "output_type": "execute_result"
        }
      ],
      "source": [
        "#Task: Check for any missing values in the dataset.\n",
        "data.isna().sum()"
      ]
    },
    {
      "cell_type": "code",
      "execution_count": null,
      "metadata": {
        "id": "XRuWUY8Aw4CC"
      },
      "outputs": [],
      "source": [
        "#replaced nan values with column's mean to avoid future porblems\n",
        "data = data.apply(pd.to_numeric, errors='coerce')\n",
        "data = data.fillna(data.mean())"
      ]
    },
    {
      "cell_type": "code",
      "execution_count": null,
      "metadata": {
        "colab": {
          "base_uri": "https://localhost:8080/"
        },
        "id": "ZIFELwoOyKXz",
        "outputId": "9dacfa5b-76f3-4046-8e02-64be347d00b5"
      },
      "outputs": [
        {
          "data": {
            "text/plain": [
              "age         0\n",
              "sex         0\n",
              "cp          0\n",
              "trestbps    0\n",
              "chol        0\n",
              "fbs         0\n",
              "restecg     0\n",
              "thalach     0\n",
              "exang       0\n",
              "oldpeak     0\n",
              "slope       0\n",
              "ca          0\n",
              "thal        0\n",
              "num         0\n",
              "dtype: int64"
            ]
          },
          "execution_count": 8,
          "metadata": {},
          "output_type": "execute_result"
        }
      ],
      "source": [
        "#checked null values again\n",
        "data.isna().sum()"
      ]
    },
    {
      "cell_type": "code",
      "execution_count": null,
      "metadata": {
        "colab": {
          "base_uri": "https://localhost:8080/"
        },
        "id": "4B2vJ09ryQi0",
        "outputId": "317b8551-30e5-4885-d00e-4f4f2da81355"
      },
      "outputs": [
        {
          "data": {
            "text/html": [
              "<div>\n",
              "<style scoped>\n",
              "    .dataframe tbody tr th:only-of-type {\n",
              "        vertical-align: middle;\n",
              "    }\n",
              "\n",
              "    .dataframe tbody tr th {\n",
              "        vertical-align: top;\n",
              "    }\n",
              "\n",
              "    .dataframe thead th {\n",
              "        text-align: right;\n",
              "    }\n",
              "</style>\n",
              "<table border=\"1\" class=\"dataframe\">\n",
              "  <thead>\n",
              "    <tr style=\"text-align: right;\">\n",
              "      <th></th>\n",
              "      <th>age</th>\n",
              "      <th>sex</th>\n",
              "      <th>cp</th>\n",
              "      <th>trestbps</th>\n",
              "      <th>chol</th>\n",
              "      <th>fbs</th>\n",
              "      <th>restecg</th>\n",
              "      <th>thalach</th>\n",
              "      <th>exang</th>\n",
              "      <th>oldpeak</th>\n",
              "      <th>slope</th>\n",
              "      <th>ca</th>\n",
              "      <th>thal</th>\n",
              "      <th>num</th>\n",
              "    </tr>\n",
              "  </thead>\n",
              "  <tbody>\n",
              "    <tr>\n",
              "      <th>0</th>\n",
              "      <td>63.0</td>\n",
              "      <td>1.0</td>\n",
              "      <td>1.0</td>\n",
              "      <td>145.0</td>\n",
              "      <td>233.0</td>\n",
              "      <td>1.0</td>\n",
              "      <td>2.0</td>\n",
              "      <td>150.0</td>\n",
              "      <td>0.0</td>\n",
              "      <td>2.3</td>\n",
              "      <td>3.0</td>\n",
              "      <td>0.0</td>\n",
              "      <td>6.0</td>\n",
              "      <td>0</td>\n",
              "    </tr>\n",
              "    <tr>\n",
              "      <th>1</th>\n",
              "      <td>67.0</td>\n",
              "      <td>1.0</td>\n",
              "      <td>4.0</td>\n",
              "      <td>160.0</td>\n",
              "      <td>286.0</td>\n",
              "      <td>0.0</td>\n",
              "      <td>2.0</td>\n",
              "      <td>108.0</td>\n",
              "      <td>1.0</td>\n",
              "      <td>1.5</td>\n",
              "      <td>2.0</td>\n",
              "      <td>3.0</td>\n",
              "      <td>3.0</td>\n",
              "      <td>2</td>\n",
              "    </tr>\n",
              "    <tr>\n",
              "      <th>2</th>\n",
              "      <td>67.0</td>\n",
              "      <td>1.0</td>\n",
              "      <td>4.0</td>\n",
              "      <td>120.0</td>\n",
              "      <td>229.0</td>\n",
              "      <td>0.0</td>\n",
              "      <td>2.0</td>\n",
              "      <td>129.0</td>\n",
              "      <td>1.0</td>\n",
              "      <td>2.6</td>\n",
              "      <td>2.0</td>\n",
              "      <td>2.0</td>\n",
              "      <td>7.0</td>\n",
              "      <td>1</td>\n",
              "    </tr>\n",
              "    <tr>\n",
              "      <th>3</th>\n",
              "      <td>37.0</td>\n",
              "      <td>1.0</td>\n",
              "      <td>3.0</td>\n",
              "      <td>130.0</td>\n",
              "      <td>250.0</td>\n",
              "      <td>0.0</td>\n",
              "      <td>0.0</td>\n",
              "      <td>187.0</td>\n",
              "      <td>0.0</td>\n",
              "      <td>3.5</td>\n",
              "      <td>3.0</td>\n",
              "      <td>0.0</td>\n",
              "      <td>3.0</td>\n",
              "      <td>0</td>\n",
              "    </tr>\n",
              "    <tr>\n",
              "      <th>4</th>\n",
              "      <td>41.0</td>\n",
              "      <td>0.0</td>\n",
              "      <td>2.0</td>\n",
              "      <td>130.0</td>\n",
              "      <td>204.0</td>\n",
              "      <td>0.0</td>\n",
              "      <td>2.0</td>\n",
              "      <td>172.0</td>\n",
              "      <td>0.0</td>\n",
              "      <td>1.4</td>\n",
              "      <td>1.0</td>\n",
              "      <td>0.0</td>\n",
              "      <td>3.0</td>\n",
              "      <td>0</td>\n",
              "    </tr>\n",
              "    <tr>\n",
              "      <th>5</th>\n",
              "      <td>56.0</td>\n",
              "      <td>1.0</td>\n",
              "      <td>2.0</td>\n",
              "      <td>120.0</td>\n",
              "      <td>236.0</td>\n",
              "      <td>0.0</td>\n",
              "      <td>0.0</td>\n",
              "      <td>178.0</td>\n",
              "      <td>0.0</td>\n",
              "      <td>0.8</td>\n",
              "      <td>1.0</td>\n",
              "      <td>0.0</td>\n",
              "      <td>3.0</td>\n",
              "      <td>0</td>\n",
              "    </tr>\n",
              "    <tr>\n",
              "      <th>6</th>\n",
              "      <td>62.0</td>\n",
              "      <td>0.0</td>\n",
              "      <td>4.0</td>\n",
              "      <td>140.0</td>\n",
              "      <td>268.0</td>\n",
              "      <td>0.0</td>\n",
              "      <td>2.0</td>\n",
              "      <td>160.0</td>\n",
              "      <td>0.0</td>\n",
              "      <td>3.6</td>\n",
              "      <td>3.0</td>\n",
              "      <td>2.0</td>\n",
              "      <td>3.0</td>\n",
              "      <td>3</td>\n",
              "    </tr>\n",
              "    <tr>\n",
              "      <th>7</th>\n",
              "      <td>57.0</td>\n",
              "      <td>0.0</td>\n",
              "      <td>4.0</td>\n",
              "      <td>120.0</td>\n",
              "      <td>354.0</td>\n",
              "      <td>0.0</td>\n",
              "      <td>0.0</td>\n",
              "      <td>163.0</td>\n",
              "      <td>1.0</td>\n",
              "      <td>0.6</td>\n",
              "      <td>1.0</td>\n",
              "      <td>0.0</td>\n",
              "      <td>3.0</td>\n",
              "      <td>0</td>\n",
              "    </tr>\n",
              "    <tr>\n",
              "      <th>8</th>\n",
              "      <td>63.0</td>\n",
              "      <td>1.0</td>\n",
              "      <td>4.0</td>\n",
              "      <td>130.0</td>\n",
              "      <td>254.0</td>\n",
              "      <td>0.0</td>\n",
              "      <td>2.0</td>\n",
              "      <td>147.0</td>\n",
              "      <td>0.0</td>\n",
              "      <td>1.4</td>\n",
              "      <td>2.0</td>\n",
              "      <td>1.0</td>\n",
              "      <td>7.0</td>\n",
              "      <td>2</td>\n",
              "    </tr>\n",
              "    <tr>\n",
              "      <th>9</th>\n",
              "      <td>53.0</td>\n",
              "      <td>1.0</td>\n",
              "      <td>4.0</td>\n",
              "      <td>140.0</td>\n",
              "      <td>203.0</td>\n",
              "      <td>1.0</td>\n",
              "      <td>2.0</td>\n",
              "      <td>155.0</td>\n",
              "      <td>1.0</td>\n",
              "      <td>3.1</td>\n",
              "      <td>3.0</td>\n",
              "      <td>0.0</td>\n",
              "      <td>7.0</td>\n",
              "      <td>1</td>\n",
              "    </tr>\n",
              "  </tbody>\n",
              "</table>\n",
              "</div>"
            ],
            "text/plain": [
              "    age  sex   cp  trestbps   chol  fbs  restecg  thalach  exang  oldpeak  \\\n",
              "0  63.0  1.0  1.0     145.0  233.0  1.0      2.0    150.0    0.0      2.3   \n",
              "1  67.0  1.0  4.0     160.0  286.0  0.0      2.0    108.0    1.0      1.5   \n",
              "2  67.0  1.0  4.0     120.0  229.0  0.0      2.0    129.0    1.0      2.6   \n",
              "3  37.0  1.0  3.0     130.0  250.0  0.0      0.0    187.0    0.0      3.5   \n",
              "4  41.0  0.0  2.0     130.0  204.0  0.0      2.0    172.0    0.0      1.4   \n",
              "5  56.0  1.0  2.0     120.0  236.0  0.0      0.0    178.0    0.0      0.8   \n",
              "6  62.0  0.0  4.0     140.0  268.0  0.0      2.0    160.0    0.0      3.6   \n",
              "7  57.0  0.0  4.0     120.0  354.0  0.0      0.0    163.0    1.0      0.6   \n",
              "8  63.0  1.0  4.0     130.0  254.0  0.0      2.0    147.0    0.0      1.4   \n",
              "9  53.0  1.0  4.0     140.0  203.0  1.0      2.0    155.0    1.0      3.1   \n",
              "\n",
              "   slope   ca  thal  num  \n",
              "0    3.0  0.0   6.0    0  \n",
              "1    2.0  3.0   3.0    2  \n",
              "2    2.0  2.0   7.0    1  \n",
              "3    3.0  0.0   3.0    0  \n",
              "4    1.0  0.0   3.0    0  \n",
              "5    1.0  0.0   3.0    0  \n",
              "6    3.0  2.0   3.0    3  \n",
              "7    1.0  0.0   3.0    0  \n",
              "8    2.0  1.0   7.0    2  \n",
              "9    3.0  0.0   7.0    1  "
            ]
          },
          "execution_count": 9,
          "metadata": {},
          "output_type": "execute_result"
        }
      ],
      "source": [
        "data.head(10) #we changed the data, thus printed the head again"
      ]
    },
    {
      "cell_type": "markdown",
      "metadata": {
        "id": "mbl9Fn0GdBj_"
      },
      "source": [
        "**2. Identify the Features and Target Variable**"
      ]
    },
    {
      "cell_type": "code",
      "execution_count": null,
      "metadata": {
        "colab": {
          "base_uri": "https://localhost:8080/"
        },
        "id": "vCZIKOmxb53J",
        "outputId": "0283cb0c-edaa-4e0a-eb52-0f7c2b89743d"
      },
      "outputs": [
        {
          "name": "stdout",
          "output_type": "stream",
          "text": [
            "Features (X):\n",
            "    age  sex   cp  trestbps   chol  fbs  restecg  thalach  exang  oldpeak  \\\n",
            "0  63.0  1.0  1.0     145.0  233.0  1.0      2.0    150.0    0.0      2.3   \n",
            "1  67.0  1.0  4.0     160.0  286.0  0.0      2.0    108.0    1.0      1.5   \n",
            "2  67.0  1.0  4.0     120.0  229.0  0.0      2.0    129.0    1.0      2.6   \n",
            "3  37.0  1.0  3.0     130.0  250.0  0.0      0.0    187.0    0.0      3.5   \n",
            "4  41.0  0.0  2.0     130.0  204.0  0.0      2.0    172.0    0.0      1.4   \n",
            "\n",
            "   slope   ca  thal  \n",
            "0    3.0  0.0   6.0  \n",
            "1    2.0  3.0   3.0  \n",
            "2    2.0  2.0   7.0  \n",
            "3    3.0  0.0   3.0  \n",
            "4    1.0  0.0   3.0  \n",
            "\n",
            "Target Variable (Y):\n",
            "0    0\n",
            "1    2\n",
            "2    1\n",
            "3    0\n",
            "4    0\n",
            "Name: num, dtype: int64\n"
          ]
        }
      ],
      "source": [
        "#Task: Extract the features from the dataset\n",
        "X = data.drop(columns=[\"num\"])\n",
        "\n",
        "#Task: Extract target variable from the dataset\n",
        "Y = data[\"num\"]\n",
        "\n",
        "#Task: Print the names of all the feature columns and the target column.\n",
        "print(\"Features (X):\")\n",
        "print(X.head())\n",
        "print(\"\\nTarget Variable (Y):\")\n",
        "print(Y.head())"
      ]
    },
    {
      "cell_type": "markdown",
      "metadata": {
        "id": "V_jVSk8_gyIr"
      },
      "source": [
        "# Task 2: Correlation Analysis"
      ]
    },
    {
      "cell_type": "markdown",
      "metadata": {
        "id": "gBooKYjDipDY"
      },
      "source": [
        "**1. Define the Pearson Correlation Function**"
      ]
    },
    {
      "cell_type": "code",
      "execution_count": null,
      "metadata": {
        "id": "3gmMayUFge9I"
      },
      "outputs": [],
      "source": [
        "#Task: Implement this formula in a Python functin named pearson_correlation.\n",
        "# The function should take two arrays, x and y, and return the Pearson correlation coefficient.\n",
        "\n",
        "def pearson_correlation(x, y):\n",
        "    n = len(x)\n",
        "    sum_x = sum(x)\n",
        "    sum_y = sum(y)\n",
        "    sum_x_sq = sum(x**2)\n",
        "    sum_y_sq = sum(y**2)\n",
        "    sum_xy = sum(x * y)\n",
        "\n",
        "    # we calculated numerator and denominator seperately to avoid zero division error\n",
        "    numerator = (n * sum_xy) - (sum_x * sum_y)\n",
        "    denominator = ((n * sum_x_sq - sum_x**2) * (n * sum_y_sq - sum_y**2))**0.5\n",
        "    # avoid zero division error\n",
        "    if denominator == 0:\n",
        "        return 0\n",
        "\n",
        "    result = numerator / denominator\n",
        "    return result\n"
      ]
    },
    {
      "cell_type": "markdown",
      "metadata": {
        "id": "H2BhBInW0O75"
      },
      "source": [
        "**2. Compute Correlations Between Each Feature and the Target**"
      ]
    },
    {
      "cell_type": "code",
      "execution_count": null,
      "metadata": {
        "id": "YQTqQzLx077a"
      },
      "outputs": [],
      "source": [
        "#Task: Calculate correlations and store in a dictionary\n",
        "correlations = {}\n",
        "for column in X.columns:\n",
        "    correlations[column] = pearson_correlation(X[column], Y)\n"
      ]
    },
    {
      "cell_type": "markdown",
      "metadata": {
        "id": "nnd-tbOI08bQ"
      },
      "source": [
        "**3. Filter Features Based on a Correlation Threshold**"
      ]
    },
    {
      "cell_type": "code",
      "execution_count": null,
      "metadata": {
        "colab": {
          "base_uri": "https://localhost:8080/"
        },
        "id": "dNRvXHl-1FeZ",
        "outputId": "413350eb-4ad1-4248-c464-599e419a6aeb"
      },
      "outputs": [
        {
          "name": "stdout",
          "output_type": "stream",
          "text": [
            "\n",
            "Features with abs correlation > 0.3:\n",
            "cp: 0.407075\n",
            "thalach: -0.415040\n",
            "exang: 0.397057\n",
            "oldpeak: 0.504092\n",
            "slope: 0.377957\n",
            "ca: 0.517390\n",
            "thal: 0.508799\n"
          ]
        }
      ],
      "source": [
        "#Task:Filter features based on a threshold value (given as 0.3)\n",
        "threshold = 0.3\n",
        "selected_features = {}\n",
        "for feature, corr in correlations.items():\n",
        "    if abs(corr) > threshold:\n",
        "        selected_features[feature] = corr\n",
        "\n",
        "#Task: Print the features with strong correlation\n",
        "#We only want to consider features with an absolute correlation coefficient greater than 0.3.\n",
        "print(\"\\nFeatures with abs correlation > 0.3:\")\n",
        "for feature, corr in selected_features.items():\n",
        "    print(f\"{feature}: {corr:.6f}\")"
      ]
    },
    {
      "cell_type": "markdown",
      "metadata": {
        "id": "oMsJKEDy1BE1"
      },
      "source": [
        "**4. Find the Most Correlated Feature**"
      ]
    },
    {
      "cell_type": "code",
      "execution_count": null,
      "metadata": {
        "colab": {
          "base_uri": "https://localhost:8080/"
        },
        "id": "NE2qaVHw1A2Q",
        "outputId": "07ff3c8b-60e1-485b-b6f5-b6218bf352c4"
      },
      "outputs": [
        {
          "name": "stdout",
          "output_type": "stream",
          "text": [
            "\n",
            "Most correlated feature: ca (0.517390)\n"
          ]
        }
      ],
      "source": [
        "#Task: Find the most correlated feature\n",
        "most_correlated_feature = max(selected_features, key=lambda k: abs(selected_features[k])) #calculated max with absolute value\n",
        "print(f\"\\nMost correlated feature: {most_correlated_feature} ({selected_features[most_correlated_feature]:.6f})\")"
      ]
    },
    {
      "cell_type": "markdown",
      "metadata": {
        "id": "PdiIZAbVM_ga"
      },
      "source": [
        "# Task 3: Simple Linear Regression\n"
      ]
    },
    {
      "cell_type": "markdown",
      "metadata": {
        "id": "ZcG-M9GB-_ZE"
      },
      "source": [
        "**1. Create the Linear Regression Function:**"
      ]
    },
    {
      "cell_type": "code",
      "execution_count": null,
      "metadata": {
        "id": "6X1BzncNVTAy"
      },
      "outputs": [],
      "source": [
        "def linear_regression(x, y):\n",
        "    # Convert y to numeric, handling errors by coercing to NaN\n",
        "    X = pd.to_numeric(x, errors='coerce')\n",
        "    Y = pd.to_numeric(y, errors='coerce')\n",
        "\n",
        "    x_mean = X.mean()\n",
        "    y_mean = Y.mean()\n",
        "\n",
        "    # slope (b_1) calculations\n",
        "    numerator = sum((X - x_mean) * (Y - y_mean))\n",
        "    denominator = sum((X - x_mean) ** 2)\n",
        "\n",
        "    # avoid zero division error\n",
        "    if denominator == 0:\n",
        "        return 0, 0\n",
        "    b_1 = numerator / denominator\n",
        "\n",
        "    #intercept (b_0) calculations\n",
        "    b_0 = y_mean - (b_1 * x_mean)\n",
        "\n",
        "    return b_0, b_1"
      ]
    },
    {
      "cell_type": "markdown",
      "metadata": {
        "id": "LwaYnqoH6ks7"
      },
      "source": [
        "**2. Calculate Regression Coefficients:**"
      ]
    },
    {
      "cell_type": "code",
      "execution_count": null,
      "metadata": {
        "colab": {
          "base_uri": "https://localhost:8080/"
        },
        "id": "VpVYWd0QPVuw",
        "outputId": "e9d7ec1f-9279-4992-b045-4b939585beea"
      },
      "outputs": [
        {
          "name": "stdout",
          "output_type": "stream",
          "text": [
            "Intercept (b0): -0.593402\n",
            "Slope (b1): 0.323326\n"
          ]
        }
      ],
      "source": [
        "#Task: Apply the function to the feature and target variables, obtaining the intercept and slope\n",
        "b_0, b_1 = linear_regression(X['thal'], Y)\n",
        "\n",
        "#Task: Print the intercept and slope\n",
        "print(f\"Intercept (b0): {b_0:.6f}\")\n",
        "print(f\"Slope (b1): {b_1:.6f}\")"
      ]
    },
    {
      "cell_type": "markdown",
      "metadata": {
        "id": "OCBBK__P6day"
      },
      "source": [
        "**3. Generate Predictions:**"
      ]
    },
    {
      "cell_type": "code",
      "execution_count": null,
      "metadata": {
        "colab": {
          "base_uri": "https://localhost:8080/"
        },
        "id": "qnc7oglHUxT_",
        "outputId": "c89d97fc-acf6-4e56-b4b9-06d8a374b28d"
      },
      "outputs": [
        {
          "name": "stdout",
          "output_type": "stream",
          "text": [
            "0      1.346554\n",
            "1      0.376576\n",
            "2      1.669879\n",
            "3      0.376576\n",
            "4      0.376576\n",
            "         ...   \n",
            "298    1.669879\n",
            "299    1.669879\n",
            "300    1.669879\n",
            "301    0.376576\n",
            "302    0.376576\n",
            "Name: thal, Length: 303, dtype: float64\n"
          ]
        }
      ],
      "source": [
        "#Task: using the coefficients predict y values for each input x\n",
        "y_pred = b_0 + b_1 * X['thal']\n",
        "print(y_pred)"
      ]
    },
    {
      "cell_type": "markdown",
      "metadata": {
        "id": "X9ad-QYd_Li6"
      },
      "source": [
        "**4. Visualize the Results:**"
      ]
    },
    {
      "cell_type": "code",
      "execution_count": null,
      "metadata": {
        "colab": {
          "base_uri": "https://localhost:8080/"
        },
        "id": "27dVAeijM_5T",
        "outputId": "05d3bcff-c42b-4168-c1f4-f8fd9c5e01e1"
      },
      "outputs": [
        {
          "data": {
            "image/png": "[encoded data removed]",
            "text/plain": [
              "<Figure size 640x480 with 1 Axes>"
            ]
          },
          "metadata": {},
          "output_type": "display_data"
        }
      ],
      "source": [
        "#Task: Visualize the results\n",
        "plt.scatter(X['thal'], Y, color=\"blue\", label=\"Actual Data\", alpha=0.5)\n",
        "plt.plot(X['thal'], y_pred, color=\"red\", label=\"Regression Line\")\n",
        "plt.xlabel(\"Thal\")\n",
        "plt.ylabel(\"Target\")\n",
        "plt.title(\"Simple Linear Regression\")\n",
        "plt.legend()\n",
        "plt.show()"
      ]
    },
    {
      "cell_type": "markdown",
      "source": [
        "#Discussion of Task 3"
      ],
      "metadata": {
        "id": "noolIs7HB9CX"
      }
    },
    {
      "cell_type": "markdown",
      "source": [
        "**Performance of Simple Linear Regression Model:** The Simple Linear Regression Model is not a strong choice for this dataset. The model is not qualifed for capturing the complexity of the dataset, because it relies on only a single feature to predict the targer variable but the dataset has more complex relationship between multiple variables.\n",
        "\n",
        "**Suitability:** Simple Linear Regression Model is not ideal for the dataset since the model relies on only one feature to make predictions.\n",
        "\n",
        "**Metrics Comparision:** The Mean Squared Error for SLR is 1.114887, this error rate is relatively higher than other regression models (shown in tasks 4-5-6). Other models provide better performance for capturing the data.\n",
        "\n",
        "**Visual Fit:** Visually, the model's regression line does not follow data points as expected. Although it provides a basit fit to data points, it does not closely follow the overall trend of the data."
      ],
      "metadata": {
        "id": "pXZdkEuTCIT-"
      }
    },
    {
      "cell_type": "markdown",
      "metadata": {
        "id": "hYxUyJql3GHr"
      },
      "source": [
        "# Task 4: Multiple Linear Regression"
      ]
    },
    {
      "cell_type": "markdown",
      "metadata": {
        "id": "dSDVFLBGgtEc"
      },
      "source": [
        "**1. Create the Multiple Linear Regression Function**"
      ]
    },
    {
      "cell_type": "code",
      "execution_count": null,
      "metadata": {
        "id": "dFpiRGKs3Jjz"
      },
      "outputs": [],
      "source": [
        "def multiple_linear_regression(X, Y):\n",
        "    #chech X is a 2D array\n",
        "    if X.ndim == 1:\n",
        "        X = X.reshape(-1, 1)  #if X is 1D reshape it to 2D\n",
        "\n",
        "    # add ones column for intercet\n",
        "    X = np.hstack((np.ones((X.shape[0], 1)), X))\n",
        "\n",
        "  # transpose X for preparing it to Normal Equation\n",
        "    X_transpose = np.transpose(X)\n",
        "\n",
        "    normal_coefficient_beta = np.linalg.inv(X_transpose.dot(X)).dot(X_transpose).dot(Y)\n",
        "\n",
        "    return normal_coefficient_beta"
      ]
    },
    {
      "cell_type": "markdown",
      "metadata": {
        "id": "IPfEQ6Q1g1qT"
      },
      "source": [
        "**2. Select futures with High Correlation**"
      ]
    },
    {
      "cell_type": "code",
      "execution_count": null,
      "metadata": {
        "colab": {
          "base_uri": "https://localhost:8080/"
        },
        "id": "x1htT9Aj6igm",
        "outputId": "976337ca-5079-4ce9-e1cb-dc972e8f0b97"
      },
      "outputs": [
        {
          "name": "stdout",
          "output_type": "stream",
          "text": [
            "Top 5 most correlated features with the target:\n",
            "ca: 0.52\n",
            "thal: 0.51\n",
            "oldpeak: 0.50\n",
            "thalach: -0.42\n",
            "cp: 0.41\n"
          ]
        }
      ],
      "source": [
        "\n",
        "\n",
        "\n",
        "## get correalations dictionary from previous calculation\n",
        "sorted_features = sorted(correlations.items(), key=lambda item: abs(item[1]), reverse=True)\n",
        "\n",
        "# Select the top 5 most correlated features\n",
        "top_5_features = dict(sorted_features[:5])\n",
        "\n",
        "\n",
        "print(\"Top 5 most correlated features with the target:\")\n",
        "for feature, corr in top_5_features.items():\n",
        "    print(f\"{feature}: {corr:.2f}\")\n"
      ]
    },
    {
      "cell_type": "markdown",
      "metadata": {
        "id": "9ZTyPpT4g79x"
      },
      "source": [
        "**3. Calculate Regression Coefficients**"
      ]
    },
    {
      "cell_type": "code",
      "execution_count": null,
      "metadata": {
        "colab": {
          "base_uri": "https://localhost:8080/"
        },
        "id": "Dir6cvo86vHw",
        "outputId": "b343e868-caa7-43ca-890c-5af72165e874"
      },
      "outputs": [
        {
          "name": "stdout",
          "output_type": "stream",
          "text": [
            "Regression Coefficients for the selected features: [-0.19032269  0.40214055  0.17029545  0.26188128 -0.00624192  0.22563477]\n"
          ]
        }
      ],
      "source": [
        "# get values from X with respect to top 5 feature keys [ca, thal, oldpeak, thalach, cp]\n",
        "X_selected = X[top_5_features.keys()].values\n",
        "\n",
        "beta = multiple_linear_regression(X_selected, Y)\n",
        "\n",
        "print(\"Regression Coefficients for the selected features:\", beta)"
      ]
    },
    {
      "cell_type": "markdown",
      "metadata": {
        "id": "lhdnlG8IhAjV"
      },
      "source": [
        "**4. Generate Predictions**"
      ]
    },
    {
      "cell_type": "code",
      "execution_count": null,
      "metadata": {
        "id": "RXyGbMEK7VRp"
      },
      "outputs": [],
      "source": [
        "def generate_predictions(X, beta):\n",
        "    #chech X is a 2D array\n",
        "    if X.ndim == 1:\n",
        "        X = X.reshape(-1, 1)  #if X is 1D reshape it to 2D\n",
        "\n",
        "    # add ones column for intercet\n",
        "    X_b = np.hstack((np.ones((X.shape[0], 1)), X))\n",
        "\n",
        "    #calculate predictions using  given function on document\n",
        "    y_pred = X_b.dot(beta)\n",
        "\n",
        "    return y_pred"
      ]
    },
    {
      "cell_type": "code",
      "execution_count": null,
      "metadata": {
        "colab": {
          "base_uri": "https://localhost:8080/"
        },
        "id": "0oJIC6G19UVy",
        "outputId": "e5a36417-7bbc-40fc-9c88-9905a8ad7930"
      },
      "outputs": [
        {
          "name": "stdout",
          "output_type": "stream",
          "text": [
            "Predicted target values:\n",
            " [ 0.72312416  2.14821926  2.58424967  0.74681395  0.06485724 -0.12972303\n",
            "  1.9714497   0.36279902  1.75549708  1.74861937  0.91493788  0.15726554\n",
            "  1.18127142  0.37316335  0.79839985  0.33038444  0.66625422  0.53865354\n",
            "  0.18221775 -0.13840586  0.11874867 -0.20311087  0.24451276  2.24109931\n",
            "  2.51314767  0.43025511 -0.07614177  0.51551121  0.54855683  1.71646857\n",
            "  0.87933634  2.0764927   0.01124507  1.03027654 -0.01508268  0.11204149\n",
            "  1.80995771  1.59416371  1.79674958  0.40420661  2.66100893  0.48295278\n",
            "  0.66967623  0.43649703  0.16821875  1.70557721  0.38684094  1.7862105\n",
            "  0.62913255  0.36295411  0.12533167  1.13516868  0.67022997 -0.40164722\n",
            "  1.77422283  2.20219496  1.22048661  0.91806165  0.58177776  0.53473313\n",
            "  1.33218986  0.36539502  2.86915387 -0.06365794  1.96772227  2.55548101\n",
            "  0.81561466  1.06774351  1.92081251  1.02267876  0.28316926  1.74350942\n",
            "  2.56200217  1.70917606  0.52042396  0.26444351  2.15958238  0.90607821\n",
            " -0.29933563  1.42093679  1.08494285  0.43526111 -0.13856095  1.16137227\n",
            " -0.24940029 -0.12607711  0.0237289   0.57497716  0.224396    0.19836296\n",
            "  0.38532577  3.82929215  2.44513783  0.06226124 -0.07614177  1.30147645\n",
            "  1.73433041  2.40947599  0.39725587  0.06210616  0.06834807 -0.53989515\n",
            "  0.63277847  0.5881593   2.54120751  0.47927594  1.29523453  1.24925528\n",
            "  2.37532932  1.3446737   1.25484594  1.04066476 -0.12887947  1.84102767\n",
            "  1.78958191  0.4587865  -0.03244835  0.45370762  2.75815944  2.24696922\n",
            "  1.77227808  3.19697608  0.41913136  2.67796693  0.22887919 -0.16337353\n",
            "  2.9259158   2.25321113 -0.28929271  0.20567025  0.86584048  1.1195351\n",
            " -0.48903406  0.06210616  0.0199279   0.13351833  1.80493625  1.5788719\n",
            "  1.51184538  0.5898248  -0.25184121  0.28729168 -0.37667955  1.33234495\n",
            "  0.87452332  0.04869657  2.59858976 -0.1198352  -0.28929271  0.40090178\n",
            "  0.43057653  0.61871763  1.09895309  1.61085215  1.60215807  2.37767049\n",
            "  1.24344294  1.64119782  1.96169728  1.40014213  0.47927594  1.41833381\n",
            "  0.43025511  0.72347014  0.70941357  0.85564248  0.21291926  0.18150892\n",
            "  0.93054549 -0.08955136  2.14115133  1.21143176  0.3305086   0.55737929\n",
            "  2.2380997   2.07139394  2.21933251  2.03067905  0.88599238  1.12403795\n",
            "  0.99906695  2.26985252  0.4489233   1.42220364  0.21815409  0.45881113\n",
            "  0.67722288  1.74011115  0.63798172  2.49751409 -0.01996452  3.44909369\n",
            "  1.30821382  2.26545561  0.67246943  1.48283735  0.15683596  0.3267076\n",
            "  0.04871203 -0.23404121  0.23063792  0.26184751  1.05331493  0.90085107\n",
            "  0.8993359   2.19314438  2.68276027  1.35349616 -0.19566395  0.6284813\n",
            " -0.06365794  1.08650019  0.47258845  1.94053061  0.62653655  0.7137641\n",
            " -0.30177655  0.27433134  1.78963251  0.08707382 -0.07614177 -0.04493219\n",
            " -0.1198352   2.63934609  1.44388615 -0.243298    0.35669673  0.32599877\n",
            "  0.95111625  0.82749836 -0.0312279   1.3831948   1.62691308  0.47107803\n",
            "  0.38217603  2.14134155  1.68037715  1.21495352 -0.23935737 -0.23935737\n",
            " -0.18318012 -0.24559929  0.20567025  1.12629287  0.39824394  1.04180792\n",
            "  1.35887416  1.15057835  1.92180485 -0.1020352   1.34032947  2.17478637\n",
            "  1.70340007  0.17461575  0.40757328 -0.08238369  1.21959599  0.561475\n",
            " -0.12076095  0.65146909  0.54812725  0.62734289 -0.28547625 -0.05741602\n",
            "  1.78777626  1.42513577  0.80657461  1.6502168   0.77449756  0.0611804\n",
            "  1.94261498  1.47493149  2.4309219   0.86187315  0.54879397  0.41701186\n",
            "  0.45083712  0.04869657  0.15029934  0.56254037  2.1994748  -0.1198352\n",
            "  2.01873844 -0.31426038  1.30147645  3.21881998  2.36021788  0.92926675\n",
            "  0.43558252 -0.2830508   0.95186724  0.04993249  1.56842062  2.85725471\n",
            "  0.37420202 -0.36419572  2.23837894  1.18890501  0.71770472  2.71885169\n",
            "  1.90286218  0.08788017  0.18795159]\n"
          ]
        }
      ],
      "source": [
        "#generate predictions using the selected features and calculated coefficients\n",
        "predictions = generate_predictions(X_selected, beta)\n",
        "\n",
        "\n",
        "print(\"Predicted target values:\\n\", predictions)"
      ]
    },
    {
      "cell_type": "markdown",
      "metadata": {
        "id": "ILF0APiNhH_9"
      },
      "source": [
        "**5. Visualize the Results**"
      ]
    },
    {
      "cell_type": "code",
      "execution_count": null,
      "metadata": {
        "id": "jLddxToi9rdV"
      },
      "outputs": [],
      "source": [
        "\n",
        "def plot_actual_vs_predicted(actual, predicted):\n",
        "    plt.figure()\n",
        "    plt.scatter(actual, predicted, alpha=0.5, label=\"Predicted values\")\n",
        "    # given x and y spots for drawing the line\n",
        "\n",
        "    plt.plot([actual.min(), actual.max()], [actual.min(), actual.max()], color='red', label=\"Valid prediction line\")\n",
        "\n",
        "    plt.xlabel(\"Actual values\")\n",
        "    plt.ylabel(\"Predicted values\")\n",
        "    plt.title(\"Actual vs Predicted Values\")\n",
        "    plt.legend()\n",
        "    plt.show()"
      ]
    },
    {
      "cell_type": "code",
      "execution_count": null,
      "metadata": {
        "colab": {
          "base_uri": "https://localhost:8080/",
          "height": 472
        },
        "id": "lw1np7xp9x0M",
        "outputId": "9468bc9d-899a-4c4e-b5fc-e1cb52c9b04a"
      },
      "outputs": [
        {
          "data": {
            "image/png": "[encoded data removed]",
            "text/plain": [
              "<Figure size 640x480 with 1 Axes>"
            ]
          },
          "metadata": {},
          "output_type": "display_data"
        }
      ],
      "source": [
        "plot_actual_vs_predicted(Y, predictions)"
      ]
    },
    {
      "cell_type": "markdown",
      "metadata": {
        "id": "tN4SuiRrhRWF"
      },
      "source": [
        "**6. Calcute Mean Squared Error(MSE)**"
      ]
    },
    {
      "cell_type": "code",
      "execution_count": null,
      "metadata": {
        "id": "D21P148Y-AgB"
      },
      "outputs": [],
      "source": [
        "def mean_squared_error(actual, predicted):\n",
        "    mse = np.mean((actual - predicted) ** 2)\n",
        "    return mse"
      ]
    },
    {
      "cell_type": "markdown",
      "metadata": {
        "id": "OQ-j-Bkv74dQ"
      },
      "source": [
        "**Calculate MSE for the multiple linear regression model**"
      ]
    },
    {
      "cell_type": "code",
      "execution_count": null,
      "metadata": {
        "colab": {
          "base_uri": "https://localhost:8080/"
        },
        "id": "J0tCZJ-A-Dtv",
        "outputId": "7747ae33-bec8-488b-833c-f9cbc86a8140"
      },
      "outputs": [
        {
          "name": "stdout",
          "output_type": "stream",
          "text": [
            "Mean Squared Error (MSE) for multiple linear regression: 0.693729\n"
          ]
        }
      ],
      "source": [
        "mse_multiple = mean_squared_error(Y, predictions)\n",
        "print(f\"Mean Squared Error (MSE) for multiple linear regression: {mse_multiple:.6f}\")"
      ]
    },
    {
      "cell_type": "markdown",
      "metadata": {
        "id": "KWg-l5NN71d_"
      },
      "source": [
        "**Calculate MSE for the simple linear regression model**"
      ]
    },
    {
      "cell_type": "code",
      "execution_count": null,
      "metadata": {
        "colab": {
          "base_uri": "https://localhost:8080/"
        },
        "id": "lMbqn1GU-ObT",
        "outputId": "a7635de3-4d8b-42e8-8707-42c4d9a015ba"
      },
      "outputs": [
        {
          "name": "stdout",
          "output_type": "stream",
          "text": [
            "Mean Squared Error (MSE) for simple linear regression: 1.114887\n"
          ]
        }
      ],
      "source": [
        "mse_simple = mean_squared_error(Y, y_pred)\n",
        "print(f\"Mean Squared Error (MSE) for simple linear regression: {mse_simple:.6f}\")"
      ]
    },
    {
      "cell_type": "markdown",
      "metadata": {
        "id": "P-K_zMDLBKVQ"
      },
      "source": [
        "# Discussion of Task 4"
      ]
    },
    {
      "cell_type": "markdown",
      "metadata": {
        "id": "ClWaGO9TBKVQ"
      },
      "source": [
        "**Performance of Regression Model:** The Multiple Linear Regression (MLR) model performs better than the Simple Linear Regression (SLR) model. Because it uses the top 5  most correlated features with the target num; which helps for improve accuracy well.\n",
        "\n",
        "**Suitability:** MLR is more suitable for this dataset because it uses multiple features rather than relying on a single feature, as SLR does.\n",
        "\n",
        "**Metrics Comparison:** The Mean Squared Error (MSE) for SLR is 1.114887,for MLR is 0.693729. This decrease in error shows MLR gains more accurate fit by capturing more data with multiple features.\n",
        "\n",
        "**Visual Fit:** Visually, MLR shows a closer line with the actual data points compared to SLR. Although SLR was using highest correlated feature, but in the end MLR’s use of multiple top related features allows it better capture the data and reduce error.\n"
      ]
    },
    {
      "cell_type": "markdown",
      "metadata": {
        "id": "c1P9N0rJ8wHw"
      },
      "source": [
        "# Task 5: Logistic Regression"
      ]
    },
    {
      "cell_type": "code",
      "execution_count": null,
      "metadata": {
        "id": "d3_f_nYdA5K_"
      },
      "outputs": [],
      "source": [
        "from sklearn.model_selection import train_test_split\n",
        "from sklearn.linear_model import LogisticRegression\n",
        "from sklearn.metrics import accuracy_score"
      ]
    },
    {
      "cell_type": "markdown",
      "metadata": {
        "id": "q_Yy-efGBOcs"
      },
      "source": [
        "Task: Prepare Data for Logistic Regression"
      ]
    },
    {
      "cell_type": "code",
      "execution_count": null,
      "metadata": {
        "colab": {
          "base_uri": "https://localhost:8080/"
        },
        "id": "vneuneyB832C",
        "outputId": "35d6c139-3a84-4e79-e92c-124eb1c301ac"
      },
      "outputs": [
        {
          "name": "stdout",
          "output_type": "stream",
          "text": [
            "Training features shape: (227, 5)\n",
            "Testing features shape: (76, 5)\n",
            "Training target shape: (227,)\n",
            "Testing target shape: (76,)\n"
          ]
        }
      ],
      "source": [
        "X_lg = data[top_5_features.keys()]\n",
        "Y_lg = Y\n",
        "\n",
        "# we should check for Y is binary or not. For that, we need to compare with\n",
        "# threshold value\n",
        "\n",
        "Y_lg = Y_lg.apply(lambda y: 1 if y > 0.9 else 0)\n",
        "\n",
        "# on book, it gives an example for random_state as 42.\n",
        "X_lg_train, X_lg_test, Y_lg_train, Y_lg_test = train_test_split(X_lg, Y_lg, random_state = 42)\n",
        "\n",
        "# for clarify what we've done\n",
        "print(\"Training features shape:\", X_lg_train.shape)\n",
        "print(\"Testing features shape:\", X_lg_test.shape)\n",
        "print(\"Training target shape:\", Y_lg_train.shape)\n",
        "print(\"Testing target shape:\", Y_lg_test.shape)"
      ]
    },
    {
      "cell_type": "markdown",
      "metadata": {
        "id": "RHNP7MI8BH6r"
      },
      "source": [
        "Task: Train Logistic Regression Model"
      ]
    },
    {
      "cell_type": "code",
      "execution_count": null,
      "metadata": {
        "id": "qLSAoVHe_mdl"
      },
      "outputs": [],
      "source": [
        "# get an instance of LogisticRegression class\n",
        "# # setting C value to 100. In book it says \"The default value of C=1 provides\n",
        "# quite good performance, with 95% accuracy on both the training and the test\n",
        "# set. But as training and test set performance are very close, it is likely\n",
        "# that we are underfitting.\"\n",
        "logistic_model = LogisticRegression(C=100, solver= 'lbfgs')"
      ]
    },
    {
      "cell_type": "code",
      "execution_count": null,
      "metadata": {
        "colab": {
          "base_uri": "https://localhost:8080/"
        },
        "id": "GwD-kac0BYm1",
        "outputId": "2bc8ffb6-0284-4a46-aadb-e0d736b8dd62"
      },
      "outputs": [
        {
          "name": "stdout",
          "output_type": "stream",
          "text": [
            "Score Train: 0.8281938325991189\n",
            "Score Test: 0.8157894736842105\n"
          ]
        }
      ],
      "source": [
        "logistic_model.fit(X_lg_train, Y_lg_train)\n",
        "\n",
        "\n",
        "# with this output, we can change C value inside LogisticRegression class.\n",
        "# because in book it says, If scores are close to each other it might go to\n",
        "# underfitting.\n",
        "scr_train = logistic_model.score(X_lg_train, Y_lg_train)\n",
        "scr_test = logistic_model.score(X_lg_test, Y_lg_test)\n",
        "print(\"Score Train:\", scr_train)\n",
        "print(\"Score Test:\", scr_test)\n",
        "\n"
      ]
    },
    {
      "cell_type": "markdown",
      "metadata": {
        "id": "hJowuuj7Bv2e"
      },
      "source": [
        "Task: Evaluate the Model"
      ]
    },
    {
      "cell_type": "code",
      "execution_count": null,
      "metadata": {
        "colab": {
          "base_uri": "https://localhost:8080/"
        },
        "id": "g1NzuFoABzZy",
        "outputId": "c38e4d39-6f35-4350-bb06-057b1a9203d1"
      },
      "outputs": [
        {
          "name": "stdout",
          "output_type": "stream",
          "text": [
            "Accuracy: 0.8157894736842105\n"
          ]
        }
      ],
      "source": [
        "Y_lg_pred = logistic_model.predict(X_lg_test)\n",
        "\n",
        "accuracy = accuracy_score(Y_lg_test, Y_lg_pred)\n",
        "\n",
        "print(\"Accuracy:\", accuracy)"
      ]
    },
    {
      "cell_type": "markdown",
      "metadata": {
        "id": "FzntPxTPDPhX"
      },
      "source": [
        "Task: Visualize the Results"
      ]
    },
    {
      "cell_type": "code",
      "execution_count": null,
      "metadata": {
        "colab": {
          "base_uri": "https://localhost:8080/",
          "height": 564
        },
        "id": "DKuLxC4xDS7X",
        "outputId": "8eb3f6ae-3e2e-4f23-dde7-01f425c090b2"
      },
      "outputs": [
        {
          "data": {
            "image/png": "[encoded data removed]",
            "text/plain": [
              "<Figure size 1000x600 with 1 Axes>"
            ]
          },
          "metadata": {},
          "output_type": "display_data"
        }
      ],
      "source": [
        "plt.figure(figsize=(10,6))\n",
        "plt.scatter(range(len(Y_lg_test)), Y_lg_test, color = 'blue', label = 'Actual values of Y')\n",
        "plt.scatter(range(len(Y_lg_test)), Y_lg_pred, color = 'red', label = 'Predicted values of Y')\n",
        "plt.xlabel(\"Data Points\")\n",
        "plt.ylabel(\"Predict/Actual Value\")\n",
        "plt.title(\"Actual vs Predicted Values of Y\")\n",
        "plt.legend()\n",
        "\n",
        "plt.show()"
      ]
    },
    {
      "cell_type": "markdown",
      "metadata": {
        "id": "n6zEutscBKVR"
      },
      "source": [
        "# Discussion of Task 5"
      ]
    },
    {
      "cell_type": "markdown",
      "metadata": {
        "id": "dZxy9N3CBKVR"
      },
      "source": [
        "**Performance of Regression Model:** Logistic Regression Model achived good accuracy on the test data. It shows that for feature targets, it will work effectively.\n",
        "\n",
        "**Suitability:** If we want a binary classification for our dataset, then this model is well suit for us. This dataset is not bad for logistic regression model, as we can see actual and predicted values are close each other and groups well.\n",
        "\n",
        "**Metrics Comparison:** For training score it is 0.82 approximetly. For predicted score is 0.81 approximetly. It indicates prediction of model gives similar performance compare to training set. It is not really low or not same, this shows that we achived good regularization.\n",
        "\n",
        "**Visual Fit:** Visually, predicted values and actual values align eachother closely for most data points. It shows good classification. Model miss some actual values on minimal parts. Which shows it is not overfitted actually."
      ]
    },
    {
      "cell_type": "markdown",
      "metadata": {
        "id": "_LHnkifl5kIM"
      },
      "source": [
        "# Task 6: Polynomial Regression"
      ]
    },
    {
      "cell_type": "code",
      "execution_count": null,
      "metadata": {
        "id": "GQ9aAahh-y1Q"
      },
      "outputs": [],
      "source": [
        "from sklearn.preprocessing import PolynomialFeatures\n",
        "from sklearn.linear_model import LinearRegression\n",
        "from sklearn.metrics import mean_squared_error"
      ]
    },
    {
      "cell_type": "markdown",
      "metadata": {
        "id": "1HCHIrMp5t7y"
      },
      "source": [
        "Task: Transform the Feature into Polynomial Features"
      ]
    },
    {
      "cell_type": "code",
      "execution_count": null,
      "metadata": {
        "colab": {
          "base_uri": "https://localhost:8080/"
        },
        "id": "U3KdznDG5zHD",
        "outputId": "75e38b82-0515-48c6-de3e-a256d56baf3a"
      },
      "outputs": [
        {
          "name": "stdout",
          "output_type": "stream",
          "text": [
            "[[6.]\n",
            " [3.]\n",
            " [7.]\n",
            " [3.]\n",
            " [3.]]\n"
          ]
        }
      ],
      "source": [
        "# highest correlation feature\n",
        "most_correlated_feature = 'thal'\n",
        "\n",
        "# for fitting the data later, we are using 2D\n",
        "X = data[[most_correlated_feature]].values\n",
        "\n",
        "degree = 3\n",
        "print(X[:5])\n",
        "polynomial = PolynomialFeatures(degree=degree)\n",
        "X_poly = polynomial.fit_transform(X)\n"
      ]
    },
    {
      "cell_type": "markdown",
      "metadata": {
        "id": "M9GO_mBdD0mP"
      },
      "source": [
        "Task: Train a Polynomial Regression Model"
      ]
    },
    {
      "cell_type": "code",
      "execution_count": null,
      "metadata": {
        "id": "nJzxxdccBeWH"
      },
      "outputs": [],
      "source": [
        "Y = data[\"num\"].values\n",
        "\n",
        "X_poly_train, X_poly_test, Y_train, Y_test = train_test_split(X_poly, Y, random_state=42)\n",
        "\n",
        "polynomial_model = LinearRegression()\n",
        "polynomial_model.fit(X_poly_train, Y_train)\n",
        "\n",
        "Y_pred = polynomial_model.predict(X_poly_test)\n"
      ]
    },
    {
      "cell_type": "markdown",
      "metadata": {
        "id": "a-6hPkStEPRK"
      },
      "source": [
        "Task: Evalueate the Model"
      ]
    },
    {
      "cell_type": "code",
      "execution_count": null,
      "metadata": {
        "colab": {
          "base_uri": "https://localhost:8080/"
        },
        "id": "sO6eXgouER4T",
        "outputId": "959f5923-fc0c-4291-c768-57887f238fed"
      },
      "outputs": [
        {
          "name": "stdout",
          "output_type": "stream",
          "text": [
            "Mean Squared Error (MSE): 1.077291\n"
          ]
        }
      ],
      "source": [
        "mse = mean_squared_error(Y_test, Y_pred)\n",
        "print(f\"Mean Squared Error (MSE): {mse:.6f}\")"
      ]
    },
    {
      "cell_type": "markdown",
      "metadata": {
        "id": "x2sx556BEhcQ"
      },
      "source": [
        "Task: Visualize the Results"
      ]
    },
    {
      "cell_type": "code",
      "execution_count": null,
      "metadata": {
        "colab": {
          "base_uri": "https://localhost:8080/",
          "height": 564
        },
        "id": "wNRKYidsEj4D",
        "outputId": "12bc7d68-b807-402b-f99a-51fca0202fa4"
      },
      "outputs": [
        {
          "data": {
            "image/png": "[encoded data removed]",
            "text/plain": [
              "<Figure size 1000x600 with 1 Axes>"
            ]
          },
          "metadata": {},
          "output_type": "display_data"
        }
      ],
      "source": [
        "plt.figure(figsize=(10, 6))\n",
        "plt.scatter(range(len(Y_test)), Y_test, color='blue', label='Actual values', alpha=0.6)\n",
        "plt.scatter(range(len(Y_test)), Y_pred, color='red', label='Predicted values', alpha=0.6)\n",
        "plt.xlabel(\"Data Point Index\")\n",
        "plt.ylabel(\"Target Value\")\n",
        "plt.title(\"Actual vs Predicted Values for Polynomial Regression Model\")\n",
        "plt.legend()\n",
        "\n",
        "plt.show()"
      ]
    },
    {
      "cell_type": "markdown",
      "metadata": {
        "id": "IZRQJ_s3Lcwz"
      },
      "source": [
        "# Discussion of Task 6"
      ]
    },
    {
      "cell_type": "markdown",
      "metadata": {
        "id": "q_5U_u5yBKVT"
      },
      "source": [
        "**Performance of Regression Model:** We used highest correlated feature 'thal' as in simple linear regression. But we transformed it into third degree polynomial features.  So with this approach, we can capture nonlinear coefficients also. And with this capture model fit might increase.\n",
        "\n",
        "**Suitability:** With using polynomial regression, we achieved a nonlinear relationship between feature and target. With transforming feature to polynomial terms, model fit cover more complex datas. But, if we increase the degree too much or decrease too much, it can lead to overfitting or underfitting respectfully.\n",
        "**Metrics Comparison:** MSE of Polynomial Regression model is smallest value compared with Simple Linear Regression and Multiple Linear Regression models.\n",
        "\n",
        "**Visual Fit:** Actual vs Predicted values illustrates that the polynomial regression model’s predictions (in red) align more closely with the actual values compared to previous linear models. distribution of red points around the blue values suggests that the model captures variations in the target across different data points effectively. However, there are some still deviations which indicates that still there is some complexity of the model."
      ]
    }
  ],
  "metadata": {
    "colab": {
      "collapsed_sections": [
        "6M3Q8Vlxcefo",
        "V_jVSk8_gyIr"
      ],
      "provenance": [],
      "include_colab_link": true
    },
    "kernelspec": {
      "display_name": ".venv",
      "language": "python",
      "name": "python3"
    },
    "language_info": {
      "codemirror_mode": {
        "name": "ipython",
        "version": 3
      },
      "file_extension": ".py",
      "mimetype": "text/x-python",
      "name": "python",
      "nbconvert_exporter": "python",
      "pygments_lexer": "ipython3",
      "version": "3.9.6"
    }
  },
  "nbformat": 4,
  "nbformat_minor": 0
}